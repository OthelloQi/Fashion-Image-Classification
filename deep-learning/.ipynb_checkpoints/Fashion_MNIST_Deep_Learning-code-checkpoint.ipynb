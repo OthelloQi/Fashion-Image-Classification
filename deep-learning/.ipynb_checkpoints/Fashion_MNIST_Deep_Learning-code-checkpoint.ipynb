
{
 "cells": [
  {
   "cell_type": "markdown",
   "metadata": {},
   "source": [
    "# Use DSVM to run a Deep learning Keras model to classify fashion items"
   ]
  },
  {
   "cell_type": "markdown",
   "metadata": {},
   "source": [
    "You created a fashion classification model in [Microsoft Custom Vision service](https://www.customvision.ai/) via UI and in python code. However if you need to start building your own custom code Deep Neural Networks - [Keras](https://keras.io/) is a great high level API to use to do this.\n",
    "\n",
    "In the code below we build a model from the Fashion MNIST dataset to classify clothing items into 10 categories. The data can be found here: https://github.com/zalandoresearch/fashion-mnist\n",
    "\n",
    "Because we are using the DSVM, all packages and frameworks are already installed on the machine. So we only need to import the package we need! \n"
   ]
  },
  {
   "cell_type": "markdown",
   "metadata": {},
   "source": [
    "* Import Tensorflow framework and Keras. As well as other more basic python packages"
   ]
  },
  {
   "cell_type": "markdown",
   "metadata": {},
   "source": [
    "> You can change the backend used in Keras from Tensorflow to CNTK by simply changing the `os.environ['KERAS_BACKEND']` variable to `cntk`"
   ]
  },
  {
   "cell_type": "code",
   "execution_count": 2,
   "metadata": {
    "collapsed": false
   },
   "outputs": [
    {
     "ename": "ImportError",
     "evalue": "No module named 'tensorflow'",
     "output_type": "error",
     "traceback": [
      "\u001b[1;31m---------------------------------------------------------------------------\u001b[0m",
      "\u001b[1;31mImportError\u001b[0m                               Traceback (most recent call last)",
      "\u001b[1;32m<ipython-input-2-21423611b1cb>\u001b[0m in \u001b[0;36m<module>\u001b[1;34m()\u001b[0m\n\u001b[1;32m----> 1\u001b[1;33m \u001b[1;32mimport\u001b[0m \u001b[0mtensorflow\u001b[0m \u001b[1;32mas\u001b[0m \u001b[0mtf\u001b[0m\u001b[1;33m\u001b[0m\u001b[0m\n\u001b[0m\u001b[0;32m      2\u001b[0m \u001b[1;32mimport\u001b[0m \u001b[0mos\u001b[0m\u001b[1;33m\u001b[0m\u001b[0m\n\u001b[0;32m      3\u001b[0m \u001b[1;32mimport\u001b[0m \u001b[0mtime\u001b[0m\u001b[1;33m\u001b[0m\u001b[0m\n\u001b[0;32m      4\u001b[0m \u001b[0mos\u001b[0m\u001b[1;33m.\u001b[0m\u001b[0menviron\u001b[0m\u001b[1;33m[\u001b[0m\u001b[1;34m\"TF_CPP_MIN_LOG_LEVEL\"\u001b[0m\u001b[1;33m]\u001b[0m\u001b[1;33m=\u001b[0m \u001b[1;34m\"2\"\u001b[0m\u001b[1;33m\u001b[0m\u001b[0m\n\u001b[0;32m      5\u001b[0m \u001b[0mprint\u001b[0m\u001b[1;33m(\u001b[0m\u001b[1;34m\"tensorflow Version is: \"\u001b[0m \u001b[1;33m+\u001b[0m \u001b[0mstr\u001b[0m\u001b[1;33m(\u001b[0m\u001b[0mtf\u001b[0m\u001b[1;33m.\u001b[0m\u001b[0m__version__\u001b[0m\u001b[1;33m)\u001b[0m\u001b[1;33m)\u001b[0m\u001b[1;33m\u001b[0m\u001b[0m\n",
      "\u001b[1;31mImportError\u001b[0m: No module named 'tensorflow'"
     ]
    }
   ],
   "source": [
    "import tensorflow as tf\n",
    "import os\n",
    "import time\n",
    "os.environ[\"TF_CPP_MIN_LOG_LEVEL\"]= \"2\"\n",
    "print(\"tensorflow Version is: \" + str(tf.__version__))\n",
    "\n",
    "import numpy as np\n",
    "os.environ['KERAS_BACKEND'] = 'tensorflow'\n",
    "from keras import backend as K\n",
    "print(os.environ['KERAS_BACKEND'])"
   ]
  },
  {
   "cell_type": "markdown",
   "metadata": {},
   "source": [
    "* Import all the Keras functions we will need to use to create a Convolutional Neural Network (CNN)"
   ]
  },
  {
   "cell_type": "code",
   "execution_count": 2,
   "metadata": {
    "collapsed": true
   },
   "outputs": [],
   "source": [
    "#Fashion MNIST Dataset CNN model development: https://github.com/zalandoresearch/fashion-mnist\n",
    "from keras.datasets import fashion_mnist\n",
    "from keras.models import Sequential\n",
    "from keras.layers import Dense, Dropout, Flatten\n",
    "from keras.layers import Conv2D, MaxPooling2D\n",
    "from keras import utils, losses, optimizers\n",
    "import matplotlib.pyplot as plt"
   ]
  },
  {
   "cell_type": "markdown",
   "metadata": {},
   "source": [
    "* We setup some variables for example how many classes there are [0-9] as well as batch size to send the training sample of data in to the model and epochs is how many iterations/run thoroughs of the data there are\n",
    "* Each image is of size 28 x 28 pixels"
   ]
  },
  {
   "cell_type": "code",
   "execution_count": 3,
   "metadata": {
    "collapsed": true
   },
   "outputs": [],
   "source": [
    "#no. of classes\n",
    "num_classes = 10\n",
    "\n",
    "# batch size and training iterations (epochs)\n",
    "batch_size = 128\n",
    "epochs = 24\n",
    "\n",
    "#input image dimensions\n",
    "img_rows,img_cols = 28,28"
   ]
  },
  {
   "cell_type": "markdown",
   "metadata": {},
   "source": [
    "* In this section lets have a look at the data\n",
    "* we pull in the fashion MNIST data from the Keras library into training and testing sets\n",
    "* X stands for features and y stands for labels\n",
    "* From the shape statements in the output you can see there are 60,000! training images and 10,000 test images - so a lot more data to use in this model\n",
    "* We then show one of the images from the training set and the corresponding text label for the image\n",
    "\n",
    "> change the img_index field to any number between 0 - 60000 to see different images"
   ]
  },
  {
   "cell_type": "code",
   "execution_count": 4,
   "metadata": {
    "collapsed": false
   },
   "outputs": [
    {
     "name": "stdout",
     "output_type": "stream",
     "text": [
      "(60000, 28, 28) train set\n",
      "(10000, 28, 28) test set\n",
      "Label Index: 9 Fashion Labels: Ankle boot\n"
     ]
    },
    {
     "data": {
      "image/png": "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\n",
      "text/plain": [
       "<Figure size 432x288 with 1 Axes>"
      ]
     },
     "metadata": {},
     "output_type": "display_data"
    }
   ],
   "source": [
    "#data for train and testing\n",
    "(x_train, y_train), (x_test, y_test) = fashion_mnist.load_data()\n",
    "\n",
    "print(x_train.shape, 'train set')\n",
    "print(x_test.shape, 'test set')\n",
    "\n",
    "# Define the text labels\n",
    "fashion_mnist_labels = [\"Top\",          # index 0\n",
    "                        \"Trouser\",      # index 1\n",
    "                        \"Jumper\",       # index 2 \n",
    "                        \"Dress\",        # index 3 \n",
    "                        \"Coat\",         # index 4\n",
    "                        \"Sandal\",       # index 5\n",
    "                        \"Shirt\",        # index 6 \n",
    "                        \"Trainer\",      # index 7 \n",
    "                        \"Bag\",          # index 8 \n",
    "                        \"Ankle boot\"]   # index 9\n",
    "\n",
    "img_index=90\n",
    "label_index = y_train[img_index]\n",
    "plt.imshow(x_train[img_index])\n",
    "print('Label Index: ' + str(label_index) + \" Fashion Labels: \" + (fashion_mnist_labels[label_index]))"
   ]
  },
  {
   "cell_type": "markdown",
   "metadata": {},
   "source": [
    "* In this section we normalise the data so the pixel values in the image are between 0 - 1 instead of 0 - 255 pixel values. This will help the model to converge and the math becomes easier with smaller numbers\n",
    "* We also [one-hot-encode](https://www.quora.com/What-is-one-hot-encoding-and-when-is-it-used-in-data-science#) the labels in matrices with 0's and 1's in them only. We do this so the model does not deem any category 0-9 in a numeric ranking. For example it won't think that tshirts[0] always come before trousers[1] when actually these are IDs of the classes not something to be evaluated\n",
    "* finally as we are deadling with greyscale images we have a depth number = 1 that might be interpreted different dpending on the framework used (CNTK, Tensorflow etc)"
   ]
  },
  {
   "cell_type": "code",
   "execution_count": 5,
   "metadata": {
    "collapsed": true
   },
   "outputs": [],
   "source": [
    "#type convert and scale the test and training data\n",
    "x_train = x_train.astype('float32')\n",
    "x_test = x_test.astype('float32')\n",
    "x_train /= 255\n",
    "x_test /= 255\n",
    "\n",
    "#one-hot encoding\n",
    "y_train = utils.to_categorical(y_train, num_classes)\n",
    "y_test = utils.to_categorical(y_test,  num_classes)\n",
    "\n",
    "#formatting issues for depth of image (greyscale = 1) with different kernels (tensorflow, cntk, etc)\n",
    "if K.image_data_format()== 'channels_first':\n",
    "    x_train = x_train.reshape(x_train.shape[0], 1, img_rows, img_cols)\n",
    "    x_test = x_test.reshape(x_test.shape[0],1,img_rows, img_cols)\n",
    "    input_shape = (1, img_rows, img_cols)\n",
    "else:\n",
    "    x_train = x_train.reshape(x_train.shape[0], img_rows, img_cols,1)\n",
    "    x_test = x_test.reshape(x_test.shape[0],img_rows, img_cols,1)\n",
    "    input_shape = (img_rows, img_cols,1)"
   ]
  },
  {
   "cell_type": "markdown",
   "metadata": {},
   "source": [
    "Now we are able to define the Convolutional Neural Network (CNN) in layers\n",
    "\n",
    "![CNN](cnn.JPG \"CNN\")\n",
    "\n",
    "* This is a **sequential model** meaning every layer passes information forward to the next layer of the network\n",
    "* **1st** we add a Convoltuional Layer -\n",
    "* **2nd**  a pooling layer\n",
    "* **3rd** Convolutional Layer - \n",
    "* **4th** Pooling Layer - \n",
    "* **5th** Dense fully connected layer -\n",
    "* **6th** Dense Layer with softmax function - "
   ]
  },
  {
   "cell_type": "markdown",
   "metadata": {},
   "source": [
    "> **Run some experiments to see how when you change the model below and rerun all the code the accuarcy and model will change:**\n",
    "* add a dropout layer after the first pooling layer and also before the final dense layer: `model.add(Dropout(0.5))`\n",
    "* change the value of dropout between 0 and 1: `model.add(Dropout(X))`\n",
    "* change the 2 Conv2D layer first variable to 32 instead of 64: `model.add(Conv2D(32, kernel_size=(3,3), activation = 'relu'))`\n",
    "* Add padding to each of the Conv2D layers: `model.add(Conv2D(32, kernel_size=(3,3), padding = 'same', activation = 'relu'))`"
   ]
  },
  {
   "cell_type": "code",
   "execution_count": 6,
   "metadata": {
    "collapsed": false
   },
   "outputs": [
    {
     "name": "stdout",
     "output_type": "stream",
     "text": [
      "_________________________________________________________________\n",
      "Layer (type)                 Output Shape              Param #   \n",
      "=================================================================\n",
      "conv2d_1 (Conv2D)            (None, 28, 28, 64)        640       \n",
      "_________________________________________________________________\n",
      "max_pooling2d_1 (MaxPooling2 (None, 14, 14, 64)        0         \n",
      "_________________________________________________________________\n",
      "dropout_1 (Dropout)          (None, 14, 14, 64)        0         \n",
      "_________________________________________________________________\n",
      "conv2d_2 (Conv2D)            (None, 14, 14, 32)        18464     \n",
      "_________________________________________________________________\n",
      "max_pooling2d_2 (MaxPooling2 (None, 7, 7, 32)          0         \n",
      "_________________________________________________________________\n",
      "flatten_1 (Flatten)          (None, 1568)              0         \n",
      "_________________________________________________________________\n",
      "dense_1 (Dense)              (None, 128)               200832    \n",
      "_________________________________________________________________\n",
      "dropout_2 (Dropout)          (None, 128)               0         \n",
      "_________________________________________________________________\n",
      "dense_2 (Dense)              (None, 10)                1290      \n",
      "=================================================================\n",
      "Total params: 221,226\n",
      "Trainable params: 221,226\n",
      "Non-trainable params: 0\n",
      "_________________________________________________________________\n"
     ]
    }
   ],
   "source": [
    "#Define the CNN model\n",
    "model = Sequential()\n",
    "\n",
    "model.add(Conv2D(64, kernel_size=(3,3), activation = 'relu', input_shape=input_shape))\n",
    "model.add(MaxPooling2D(pool_size=(2,2)))\n",
    "\n",
    "model.add(Conv2D(64, kernel_size=(3,3), activation = 'relu'))\n",
    "model.add(MaxPooling2D(pool_size=(2,2)))\n",
    "\n",
    "model.add(Flatten())\n",
    "model.add(Dense(128, activation='relu'))\n",
    "\n",
    "#model.add(Dropout(0.5))\n",
    "model.add(Dense(num_classes, activation='softmax'))\n",
    "\n",
    "model.summary()"
   ]
  },
  {
   "cell_type": "markdown",
   "metadata": {},
   "source": [
    "* This code compiles the CNN model and assigns loss/optimiser functions as well as metrics we wish to view\n",
    "* I start a timer so we know how long the model takes to run\n",
    "* Fit the training data to the model using 24 epoches and batches of 64 images. Pass in the test data as your validation set so we can see how the accuracy differs on the training set to the validation set as the model runs through 24 epochs\n",
    "* Finally evaluate the model using the test/validation set\n",
    "\n",
    "> Have a look at what optimisers are available in Keras and see what happens when you change this value: [https://keras.io/optimizers/](https://keras.io/optimizers/)"
   ]
  },
  {
   "cell_type": "code",
   "execution_count": 7,
   "metadata": {
    "collapsed": false
   },
   "outputs": [
    {
     "name": "stdout",
     "output_type": "stream",
     "text": [
      "Train on 60000 samples, validate on 10000 samples\n",
      "Epoch 1/24\n",
      "60000/60000 [==============================] - 7s 115us/step - loss: 0.6439 - acc: 0.7649 - val_loss: 0.4121 - val_acc: 0.8515\n",
      "Epoch 2/24\n",
      "60000/60000 [==============================] - 5s 90us/step - loss: 0.4181 - acc: 0.8509 - val_loss: 0.3371 - val_acc: 0.8799\n",
      "Epoch 3/24\n",
      "60000/60000 [==============================] - 5s 90us/step - loss: 0.3622 - acc: 0.8709 - val_loss: 0.3109 - val_acc: 0.8866\n",
      "Epoch 4/24\n",
      "60000/60000 [==============================] - 5s 91us/step - loss: 0.3301 - acc: 0.8812 - val_loss: 0.2929 - val_acc: 0.8917\n",
      "Epoch 5/24\n",
      "60000/60000 [==============================] - 5s 90us/step - loss: 0.3078 - acc: 0.8895 - val_loss: 0.2771 - val_acc: 0.8979\n",
      "Epoch 6/24\n",
      "60000/60000 [==============================] - 5s 90us/step - loss: 0.2924 - acc: 0.8950 - val_loss: 0.2673 - val_acc: 0.9009\n",
      "Epoch 7/24\n",
      "60000/60000 [==============================] - 5s 90us/step - loss: 0.2761 - acc: 0.8996 - val_loss: 0.2646 - val_acc: 0.9046\n",
      "Epoch 8/24\n",
      "60000/60000 [==============================] - 5s 90us/step - loss: 0.2670 - acc: 0.9024 - val_loss: 0.2511 - val_acc: 0.9066\n",
      "Epoch 9/24\n",
      "60000/60000 [==============================] - 5s 90us/step - loss: 0.2557 - acc: 0.9072 - val_loss: 0.2554 - val_acc: 0.9084\n",
      "Epoch 10/24\n",
      "60000/60000 [==============================] - 5s 90us/step - loss: 0.2466 - acc: 0.9114 - val_loss: 0.2434 - val_acc: 0.9109\n",
      "Epoch 11/24\n",
      "60000/60000 [==============================] - 5s 91us/step - loss: 0.2386 - acc: 0.9121 - val_loss: 0.2360 - val_acc: 0.9134\n",
      "Epoch 12/24\n",
      "60000/60000 [==============================] - 5s 90us/step - loss: 0.2290 - acc: 0.9153 - val_loss: 0.2532 - val_acc: 0.9075\n",
      "Epoch 13/24\n",
      "60000/60000 [==============================] - 5s 90us/step - loss: 0.2191 - acc: 0.9189 - val_loss: 0.2588 - val_acc: 0.9116\n",
      "Epoch 14/24\n",
      "60000/60000 [==============================] - 5s 90us/step - loss: 0.2120 - acc: 0.9210 - val_loss: 0.2392 - val_acc: 0.9134\n",
      "Epoch 15/24\n",
      "60000/60000 [==============================] - 5s 90us/step - loss: 0.2095 - acc: 0.9224 - val_loss: 0.2445 - val_acc: 0.9119\n",
      "Epoch 16/24\n",
      "60000/60000 [==============================] - 5s 90us/step - loss: 0.2036 - acc: 0.9245 - val_loss: 0.2487 - val_acc: 0.9122\n",
      "Epoch 17/24\n",
      "60000/60000 [==============================] - 5s 91us/step - loss: 0.1971 - acc: 0.9259 - val_loss: 0.2222 - val_acc: 0.9213\n",
      "Epoch 18/24\n",
      "60000/60000 [==============================] - 5s 90us/step - loss: 0.1937 - acc: 0.9283 - val_loss: 0.2331 - val_acc: 0.9202\n",
      "Epoch 19/24\n",
      "60000/60000 [==============================] - 5s 90us/step - loss: 0.1865 - acc: 0.9304 - val_loss: 0.2301 - val_acc: 0.9184\n",
      "Epoch 20/24\n",
      "60000/60000 [==============================] - 5s 91us/step - loss: 0.1806 - acc: 0.9323 - val_loss: 0.2369 - val_acc: 0.9224\n",
      "Epoch 21/24\n",
      "60000/60000 [==============================] - 5s 91us/step - loss: 0.1795 - acc: 0.9322 - val_loss: 0.2391 - val_acc: 0.9168\n",
      "Epoch 22/24\n",
      "60000/60000 [==============================] - 5s 91us/step - loss: 0.1749 - acc: 0.9343 - val_loss: 0.2251 - val_acc: 0.9237\n",
      "Epoch 23/24\n",
      "60000/60000 [==============================] - 5s 90us/step - loss: 0.1686 - acc: 0.9358 - val_loss: 0.2282 - val_acc: 0.9209\n",
      "Epoch 24/24\n",
      "60000/60000 [==============================] - 5s 91us/step - loss: 0.1664 - acc: 0.9368 - val_loss: 0.2313 - val_acc: 0.9231\n",
      "Test Loss:  0.23126565221548082\n",
      "Test Accuracy:  0.9231\n",
      "Time to run:  132.0050802230835\n"
     ]
    }
   ],
   "source": [
    "#compile - how to measure loss\n",
    "model.compile(loss=losses.categorical_crossentropy, optimizer=optimizers.Adam(), metrics=['accuracy'])\n",
    "\n",
    "#train the model and return loss and accuracy for each epoch - history dictionary\n",
    "start = time.time()\n",
    "hist = model.fit(x_train, y_train, batch_size=batch_size, epochs=epochs, verbose=1, validation_data=(x_test, y_test))\n",
    "end = time.time()\n",
    "\n",
    "#evaluate the model on the test data\n",
    "score = model.evaluate(x_test, y_test, verbose=0)\n",
    "print('Test Loss: ', score[0])\n",
    "print('Test Accuracy: ', score[1])\n",
    "print('Time to run: ', (end-start))"
   ]
  },
  {
   "cell_type": "markdown",
   "metadata": {},
   "source": [
    "* This code plots the training and validation accuracy across 24 epochs\n",
    "* The training accuracy is often higher but the validation accuracy is deemed a more real world value"
   ]
  },
  {
   "cell_type": "code",
   "execution_count": 8,
   "metadata": {
    "collapsed": false
   },
   "outputs": [
    {
     "data": {
      "image/png": "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\n",
      "text/plain": [
       "<Figure size 432x288 with 1 Axes>"
      ]
     },
     "metadata": {},
     "output_type": "display_data"
    }
   ],
   "source": [
    "epoch_list = list(range(1, len(hist.history['acc']) + 1))\n",
    "plt.plot(epoch_list, hist.history['acc'], epoch_list, hist.history['val_acc'])\n",
    "plt.legend(('Training Accuracy', \"Validation Accuracy\"))\n",
    "plt.show()"
   ]
  },
  {
   "cell_type": "markdown",