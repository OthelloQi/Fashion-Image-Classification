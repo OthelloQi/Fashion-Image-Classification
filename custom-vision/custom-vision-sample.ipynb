{
 "cells": [
  {
   "cell_type": "markdown",
   "metadata": {},
   "source": [
    "# Microsoft Custom Vision Service - Fashion Items Classification"
   ]
  },
  {
   "cell_type": "markdown",
   "metadata": {},
   "source": 