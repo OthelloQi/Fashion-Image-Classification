{
 "cells": [
  {
   "cell_type": "markdown",
   "metadata": {},
   "source": [
    "# Microsoft Custom Vision Service - Fashion Items Classification"
   ]
  },
  {
   "cell_type": "markdown",
   "metadata": {},
   "source": [
    "Now you have created a fashion classification model in [Microsoft Custom Vision service](https://customvision.ai/) you can call/test this model via a prediction API. \n",
    "\n",
    "The model we have built uses the Fashion MNIST dataset to classify clothing items into 10 categories. The data can be found here: [https://github.com/zalandoresearch/fashion-mnist](https://github.com/zalandoresearch/fashion-mnist) \n",
    "\n",
    "| Label Number      | Label Text  |\n",
    "| ------------- |:-------------:|\n",
    "| 0      | tshirt |\n",
    "| 1      | trouser |\n",
    "| 2      | jumper |\n",
    "| 3      | dress |\n",
    "| 4      | coat |\n",
    "| 5      | sandal |\n",
    "| 6      | shirt |\n",
    "| 7      | trainers |\n",
    "| 8      | bag |\n",
    "| 9      | boots |\n",
    "\n",
    "By filling in your keeys and IDs below you can send a test image to the Prediction API for this model and recieve a JSON result wiht name of class and accuarcy. The accuarcy is how sure/probable the model thinks the image is of being a 'dress', 'trainers', 'bag' etc. "
   ]
  },
  {
   "cell_type": "markdown",
   "metadata": {},
   "source": [
    "**Run the code below to see the images of the files. Relace the file names with files in the 'test' folder to see other items**"
   ]
 