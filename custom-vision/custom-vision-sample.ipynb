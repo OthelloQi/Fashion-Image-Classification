{
 "cells": [
  {
   "cell_type": "markdown",
   "metadata": {},
   "source": [
    "# Microsoft Custom Vision Service - Fashion Items Classification"
   ]
  },
  {
   "cell_type": "markdown",
   "metadata": {},
   "source": [
    "Now you have created a fashion classification model in [Microsoft Custom Vision service](https://customvision.ai/) you can call/test this model via a prediction API. \n",
    "\n",
    "The model we have built uses the Fashion MNIST dataset to classify clothing items into 10 categories. The data can be found here: [https://github.com/zalandoresearch/fashion-mnist](https://github.com/zalandoresearch/fashion-mnist) \n",
    "\n",
    "| Label Number      | Label Text  |\n",
    "| ------------- |:-------------:|\n",
    "| 0      | tshirt |\n",
    "| 1      | trouser |\n",
    "| 2      | jumper |\n",
    "| 3      | dress |\n",
    "| 4      | coat |\n",
    "| 5      | sandal |\n",
    "| 6      | shirt |\n",
    "| 7      | trainers |\n",
    "| 8      | bag |\n",
    "| 9      | boots |\n",
    "\n",
    "By filling in your keeys and IDs below you can send a test image to the Prediction API for this model and recieve a JSON result wiht name of class and accuarcy. The accuarcy is how sure/probable the model thinks the image is of being a 'dress', 'trainers', 'bag' etc. "
   ]
  },
  {
   "cell_type": "markdown",
   "metadata": {},
   "source": [
    "**Run the code below to see the images of the files. Relace the file names with files in the 'test' folder to see other items**"
   ]
  },
  {
   "cell_type": "code",
   "execution_count": 1,
   "metadata": {
    "collapsed": false
   },
   "outputs": [
    {
     "data": {
      "text/plain": [
       "<matplotlib.image.AxesImage at 0x1f013107630>"
      ]
     },
     "execution_count": 1,
     "metadata": {},
     "output_type": "execute_result"
    },
    {
     "data": {
      "image/png": "iVBORw0KGgoAAAANSUhEUgAAAP4AAAD8CAYAAABXXhlaAAAABHNCSVQICAgIfAhkiAAAAAlwSFlz\nAAALEgAACxIB0t1+/AAAIABJREFUeJzsvUuPZEu25/VbZvvh7hHhEZmnTta9h+beEkJqwQAx6gkD\nSgIBA6SetRokBGLMHBjd7hl8BVCDGIBADFowQg1C1VLP+gN0qxlQTT/urbp1T2bGw30/7MHAzMLN\nLWx7RD5PVmaskMnMd+yH7b3tb/+1li2zLd57nuVZnuXbEvVTV+BZnuVZPr88A/9ZnuUblGfgP8uz\nfIPyDPxneZZvUJ6B/yzP8g3KM/Cf5Vm+Qfkg4IvIvyci/1BE/pGI/Ocfq1LP8izP8mlF3nccX0QU\n8I+Afwv458DfB/669/4fFvs9Bwo8y7P8ROK9l9r25gPO+VeA/8d7/48BROR/Bv4q8A8f7vonWflX\nwC8/4LKfWn7F0+onMZXlJD6msvyIqBV0V9BeVfP+zZ/wr/yrf51fXP46pKtfH8qXv+ayvYYZMBzn\nqewBXSRV2aYJraO2XWV5Uf4b/x38jf8oXqtMM+BiSo+kKL8er/j13S/49e0vqvn1voPhDYxv6rkd\nTzzcX/F1tL2nyt9c/M+HqPr/AvBPst//NG57lmd5li9cPoTxn+VIPAfW/wDrRjxKLErPKD2imgHV\n7lBdg+oU6JHz5paN3rGSgc5NNNagZgcTgUFztjfFbziwruXA4nk5sbjhyUx/X56BfXZdW9SjZPyC\n9WX2aGNp7UzvRtbsOZM7LvQNl81bfNPjm1uc2eH0gJMJJzMOi/uQ5/6NyYcA/58Bf5T9/ktxW0V+\nlZVXH3DJzyG/eId9E9jzPP8fvGsnoMXR6omu2dH10K0M3WqgW93Srd5A+y/xw/qf86r9LS/lR7bu\nms20o9tNKNwBsLaS21gdVSRd2fae+/zyj4G/KK6ZUgK+X07KOLpxYjPt2NprXvIjg15h2gZ