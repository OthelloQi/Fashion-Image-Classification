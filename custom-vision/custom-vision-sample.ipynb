{
 "cells": [
  {
   "cell_type": "markdown",
   "metadata": {},
   "source": [
    "# Microsoft Custom Vision Service - Fashion Items Classification"
   ]
  },
  {
   "cell_type": "markdown",
   "metadata": {},
   "source": [
    "Now you have created a fashion classification model in [Microsoft Custom Vision service](https://customvision.ai/) you can call/test this model via a prediction API. \n",
    "\n",
    "The model we have built uses the Fashion MNIST dataset to classify clothing items into 10 categories. The data can be found here: [https://github.com/zalandoresearch/fashion-mnist](https://github.com/zalandoresearch/fashion-mnist) \n",
    "\n",
   