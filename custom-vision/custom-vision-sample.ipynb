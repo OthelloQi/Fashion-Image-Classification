{
 "cells": [
  {
   "cell_type": "markdown",
   "metadata": {},
   "source": [
    "# Microsoft Custom Vision Service - Fashion Items Classification"
   ]
  },
  {
   "cell_type": "markdown",
   "metadata": {},
   "source": [
    "Now you have created a fashion classification model in [Microsoft Custom Vision service](https://customvision.ai/) you can call/test this model via a prediction API. \n",
    "\n",
    "The model we have built uses the Fashion MNIST dataset to classify clothing items into 10 categories. The data can be found here: [https://github.com/zalandoresearch/fashion-mnist](https://github.com/zalandoresearch/fashion-mnist) \n",
    "\n",
    "| Label Number      | Label Text  |\n",
    "| ------------- |:-------------:|\n",
    "| 0      | tshirt |\n",
    "| 1      | trouser |\n",
    "| 2      | jumper |\n",
    "| 3      | dress |\n",
    "| 4      | coat |\n",
    "| 5      | sandal |\n",
    "| 6      | shirt |\n",
    "| 7      | trainers |\n",
    "| 8      | bag |\n",
    "| 9      | boots |\n",
    "\n",
    "By filling in your keeys and IDs below you can send a test image to the Prediction API for this model and recieve a JSON result wiht name of class and accuarcy. The accuarcy is how sure/probable the model thinks the image is of being a 'dress', 'trainers', 'bag' etc. "
   ]
  },
  {
   "cell_type": "markdown",
   "metadata": {},
   "source": [
    "**Run the code below to see the images of the files. Relace the file names with files in the 'test' folder to see other items**"
   ]
  },
  {
   "cell_type": "code",
   "execution_count": 1,
   "metadata": {
    "collapsed": false
   },
   "outputs": [
    {
     "data": {
      "text/plain": [
       "<matplotlib.image.AxesImage at 0x1f013107630>"
      ]
     },
     "execution_count": 1,
     "metadata": {},
     "output_type": "execute_result"
    },
    {
     "data": {
      "image/png": "iVBORw0KGgoAAAANSUhEUgAAAP4AAAD8CAYAAABXXhlaAAAABHNCSVQICAgIfAhkiAAAAAlwSFlz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