{
  "cells": [
    {
      "metadata": {
        "trusted": true
      },
      "cell_type": "code",
      "source": "import httplib, urllib, base64, json\nfrom matplotlib.pyplot import imshow\nimport numpy as np\nfrom PIL import Image\n\nprint(\"All packages loaded ...\")",
      "execution_count": 1,
      "outputs": [
        {
          "output_type": "stream",
          "text": "All packages loaded ...\n",
          "name": "stdout"
        }
      ]
    },
    {
      "metadata": {
        "trusted": true
      },
      "cell_type": "code",
      "source": "customvisionapi_key = '69aad4e0a3d4480f89083c9a6231d4c0'\nuri_base = 'southcentralus.api.cognitive.microsoft.com'\nheaders = {\n    'Prediction-Key': customvisionapi_key,\n    'Content-Type': 'application/octet-stream'\n}\n\nfilename = '1label_image10016.png'\nimg_data = open(filename, mode=\"rb\")\n\nprint(\"Variables set\")",
      "execution_count": 7,
      "outputs": [
        {
          "output_type": "stream",
          "text": "Variables set\n",
          "name": "stdout"
        }
      ]
    },
    {
      "metadata": {
        "trusted": true
      },
      "cell_type": "code",
      "source": "%matplotlib inline\ntestimage = Image.open(filename, 'r')\nimshow(np.asarray(testimage))",
      "execution_count": 8,
      "outputs": [
        {
          "output_type": "execute_result",
          "execution_count": 8,
          "data": {
            "text/plain": "<matplotlib.image.AxesImage at 0x7f31368a0650>"
          },
          "metadata": {}
        },
        {
          "output_type": "display_data",
          "data": {
            "image/png": "iVBORw0KGgoAAAANSUhEUgAAAP8AAAD8CAYAAAC4nHJkAAAABHNCSVQICAgIfAhkiAAAAAlwSFlzAAALEgAACxIB0t1+/AAAADl0RVh0U29mdHdhcmUAbWF0cGxvdGxpYiB2ZXJzaW9uIDIuMS4wLCBodHRwOi8vbWF0cGxvdGxpYi5vcmcvpW3flQAAEI5JREFUeJzt3VuMXfV1x/HfmrtnPL4BvmA7AVLSFEFL2pFTlapyhUCkimQiNSh+iFw1iiM1SI2UhyL6EB5SCVVNUh6qSE6xYqoEEimhkAq1ULcSQakQNqJcagjEGGM89tjYhvFtLuesPsxxNJjZaw/nbq/vR7Jm5qyz915z5vzOPsf/vfff3F0A8unpdAMAOoPwA0kRfiApwg8kRfiBpAg/kBThB5Ii/EBShB9Iqq+dGxuwQR/SSDs3eWkYXhKWZ9bFR2FWq1b/tsuWrZTUe0qOEA0Wt5mSdZesemD8THyHhM7rjKZ9alFPiIbCb2Z3SHpAUq+kf3b3+6P7D2lEn7FbG9nkZcluvCmsH/7b2bB+7uxgYa3s4O3Kmf6w3nsqfopUllbiDQQvDgMT8bp7S57DG7/1y3jbCT3ruxd937rf9ptZr6R/kvRZSTdI2mpmN9S7PgDt1chn/k2S3nD3/e4+LekRSVua0xaAVmsk/OslvT3v50O12z7AzLab2R4z2zOjqQY2B6CZGgn/Qh/IPvQBz913uPuYu4/1q/izKYD2aiT8hyRtnPfzBkmHG2sHQLs0Ev7nJF1vZtea2YCkL0p6vDltAWi1uof63H3WzO6W9B+aG+rb6e6vNK2zRE5/bDisu0+G9evXTRTWDp5cGS77W+vH43WPFq9bksbPLw/rp2eKP+r9b+Xj4bI90/G+qWd0NKxXJ+PHLbuGxvnd/QlJTzSpFwBtxOG9QFKEH0iK8ANJEX4gKcIPJEX4gaTaej4/FnZ+RfwavHZZPF59brb4tNzlw+fCZaervWG93+JTdqsen3Z75EzxWPz6646Hyx7buyas29BQWBfj/CH2/EBShB9IivADSRF+ICnCDyRF+IGkGOrrAidvjK+x+0fLj4