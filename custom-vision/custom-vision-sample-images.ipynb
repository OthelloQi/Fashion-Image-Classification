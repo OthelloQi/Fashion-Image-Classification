{
  "cells": [
    {
      "metadata": {
        "trusted": true
      },
      "cell_type": "code",
      "source": "import httplib, urllib, base64, json\nfrom matplotlib.pyplot import imshow\nimport numpy as np\nfrom PIL import Image\n\nprint(\"All packages loaded ...\")",
      "execution_count": 1,
      "outputs": [
        {
          "output_type": "stream",
          "text": "All packages loaded ...\n",
          "name": "stdout"
        }
      ]
    },
    {
      "metadata": {
        "trusted": true
      },
      "cell_type": "code",
      "source": "customvisionapi_key = '69aad4e0a3d4480f89083c9a6231d4c0'\nuri_base = 'southcentralus.api.cognitive.microsoft.com'\nheaders = {\n    'Prediction-Key': customvisionapi_key,\n    'Content-Type': 'application/octet-stream'\n}\n\nfilename = '1label_image10016.png'\nimg_data = open(filename, mode=\"rb\")\n\nprint(\"Variables set\")",
      "execution_count": 7,
      "outputs": [
        {
          "output_type": "stream",
          "text": "Variables set\n",
          "name": "stdout"
        }
      ]
    },
    {
      "metadata": {
        "trusted": true
      },
      "cell_type": "code",
      "source": "%matplotlib inline\ntestimage = Image.open(filename, 'r')\nimshow(np.asarray(testimage))",
      "execution_count": 8,
      "outputs": [
        {
          "output_type": "execute_result",
          "execution_count": 8,
          "data": {
            "text/plain": "<matplotlib.image.AxesImage at 0x7f31368a0650>"
          },
          "metadata": {}
        },
        {
          "output_type": "display_data",
          "data": {
            "image/png": "[encoded data removed]",
            "text/plain": "<matplotlib.figure.Figure at 0x7f3136952910>"
          },
          "metadata": {}
        }
      ]
    },
    {
      "metadata": {
        "trusted": true
      },
      "cell_type": "code",
      "source": "body = img_data\n\ncustom_vision_url = \"ce201e8e-ef0e-46d3-a442-ae75f60fb4b5/image?iterationId=474ea099-61e0-4e6e-8ffe-bacec13487d3\" #'INSERT YOUR URL FROm CUSTOM VISIOPN MODEL PREDICTIVE URL HERE' \n\ntry:\n    # Execute the REST API call and get the response.\n    conn = httplib.HTTPSConnection(uri_base)\n    conn.request(\"POST\", \"/customvision/v2.0/Prediction/\" + custom_vision_url, body, headers)\n    response = conn.getresponse()\n    data = response.read()\n\n    # 'data' contains the JSON data. The following formats the JSON data for display.\n    parsed = json.loads(data.decode())\n    print (\"Response:\")\n    print (json.dumps(parsed, sort_keys=True, indent=2))\n    \n    conn.close()\n\nexcept Exception as e:\n    print('Error:')\n    print(e)\n\n",
      "execution_count": 9,
      "outputs": [
        {
          "output_type": "stream",
          "text": "Response:\n{\n  \"created\": \"2018-10-06T18:07:44.2803639Z\", \n  \"id\": \"32b9b7a4-f50d-4ffc-9236-66c52c6b1982\", \n  \"iteration\": \"474ea099-61e0-4e6e-8ffe-bacec13487d3\", \n  \"predictions\": [\n    {\n      \"probability\": 0.9996445, \n      \"tagId\": \"3aa1f2ef-fcd2-4d60-bfb2-9057e80dd558\", \n      \"tagName\": \"trouser\"\n    }, \n    {\n      \"probability\": 0.000351972471, \n      \"tagId\": \"7ca3ddcc-9ca5-4865-a1b8-3011997048cc\", \n      \"tagName\": \"dress\"\n    }, \n    {\n      \"probability\": 2.77617028e-06, \n      \"tagId\": \"18b6dc80-c009-44aa-98d6-47e5195dc179\", \n      \"tagName\": \"shirt\"\n    }, \n    {\n      \"probability\": 5.743667e-07, \n      \"tagId\": \"bbfb5f6d-a1e4-4132-9668-3ff21c75e3f5\", \n      \"tagName\": \"boots\"\n    }, \n    {\n      \"probability\": 5.77950026e-08, \n      \"tagId\": \"f1d8d1e3-898d-44f5-aaa8-357514a995b4\", \n      \"tagName\": \"bag\"\n    }, \n    {\n      \"probability\": 5.200045e-08, \n      \"tagId\": \"fd1c7313-8dfb-4966-90d2-bf213396b24e\", \n      \"tagName\": \"jumper\"\n    }, \n    {\n      \"probability\": 4.51337279e-08, \n      \"tagId\": \"8bda650f-969e-42a8-ba29-902278bc46ea\", \n      \"tagName\": \"sandal\"\n    }, \n    {\n      \"probability\": 4.23951718e-08, \n      \"tagId\": \"c03831db-eaf7-44b2-a7e1-82b8c02390a8\", \n      \"tagName\": \"coat\"\n    }, \n    {\n      \"probability\": 1.55144753e-09, \n      \"tagId\": \"8688473e-76a5-4475-af04-2689de2a9e2f\", \n      \"tagName\": \"tshirt\"\n    }, \n    {\n      \"probability\": 5.86263038e-10, \n      \"tagId\": \"cd0f98fe-a4fa-4d38-a683-34c95b886936\", \n      \"tagName\": \"trainers\"\n    }\n  ], \n  \"project\": \"ce201e8e-ef0e-46d3-a442-ae75f60fb4b5\"\n}\n",
          "name": "stdout"
        }
      ]
    }
  ],
  "metadata": {
    "kernelspec": {
      "name": "python2",
      "display_name": "Python 2",
      "language": "python"
    },
    "language_info": {
      "mimetype": "text/x-python",
      "nbconvert_exporter": "python",
      "name": "python",
      "pygments_lexer": "ipython2",
      "version": "2.7.14",
      "file_extension": ".py",
      "codemirror_mode": {
        "version": 2,
        "name": "ipython"
      }
    }
  },
  "nbformat": 4,
  "nbformat_minor": 2
}