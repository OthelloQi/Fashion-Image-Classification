{
  "cells": [
    {
      "metadata": {
        "trusted": true
      },
      "cell_type": "code",
      "source": "import httplib, urllib, base64, json\nfrom matplotlib.pyplot import imshow\nimport numpy as np\nfrom PIL import Image\n\nprint(\"All packages loaded ...\")",
      "execution_count": 1,
      "outputs": [
        {
          "output_type": "stream",
          "text": "All packages loaded ...\n",
          "name": "stdout"
        }
      ]
    },
    {
      "metadata": {
        "trusted": true
      },
      "cell_type": "code",
      "source": "customvisionapi_key = '69aad4e0a3d4480f89083c9a6231d4c0'\nuri_base = 'southcentralus.api.cognitive.microsoft.com'\nheaders = {\n    'Prediction-Key': customvisionapi_key,\n    'Content-Type': 'application/octet-stream'\n}\n\nfilename = '1label_image10016.png'\nimg_data = open(filename, mode=\"rb\")\n\nprint(\"Variables set\")",
      "execution_count": 7,
      "outputs": [
        {
          "output_type": "stream",
          "text": "Variables set\n",
          "name": "stdout"
        }
      ]
    },
    {
      "metadata": {
        "trusted": true
      },
      "cell_type": "code",
      "source": "%matplotlib inline\ntestimage = Image.open(filename, 'r')\nimshow(np.asarray(testimage))",
      "execution_count": 8,
      "outputs": [
        {
          "output_type": "execute_result",
          "execution_count": 8,
          "data": {
            "text/plain": "<matplotl