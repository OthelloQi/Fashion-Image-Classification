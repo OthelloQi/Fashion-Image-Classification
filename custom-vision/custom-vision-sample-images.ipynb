{
  "cells": [
    {
      "metadata": {
        "trusted": true
      },
      "cell_type": "code",
      "source": "import httplib, urllib, base64, json\nfrom matplotlib.pyplot import imshow\nimport numpy as np\nfrom PIL import Image\n\nprint(\"All packages loaded ...\")",
      "execution_count": 1,
      "outputs": [
        {
          "output_type": "stream",
          "text": "All packages loaded ...\n",
          "name": "stdout"
        }