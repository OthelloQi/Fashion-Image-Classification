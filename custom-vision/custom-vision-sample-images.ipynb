{
  "cells": [
    {
      "metadata": {
        "trusted": true
      },
      "cell_type": "code",
      "source": "import httplib, urllib, base64, json\nfrom matplotlib.pyplot import imshow\nimport numpy as np\nfrom PIL import Image\n\nprint(\"All packages loaded ...\")",
      "execution_count": 1,
      "outputs": [
        {
          "output_type": "stream",
          "text": "All packages loaded ...\n",
          "name": "stdout"
        }
      ]
    },
    {
      "metadata": {
        "trusted": true
      },
      "cell_type": "code",
      "source": "customvisionapi_key = '69aad4e0a3d4480f89083c9a6231d4c0'\nuri_base = 'southcentralus.api.cognitive.microsoft.com'\nheaders = {\n    'Prediction-Key': customvisionapi_key,\n    'Content-Type': 'application/octet-stream'\n}\n\nfilename = '1label_image10016.png'\nimg_data = open(filename, mode=\"rb\")\n\nprint(\"Variables set\")",
      "execution_count": 7,
      "outputs": [
        {
          "output_type": "stream",
          "text": "Variables set\n",
          "name": "stdout"
        }
      ]
    },
    {
      "metadata": {
        "trusted": true
      },
      "cell_type": "code",
      "source": "%matplotlib inline\ntestimage = Image.open(filename, 'r')\nimshow(np.asarray(testimage))",
      "execution_count": 8,
      "outputs": [
        {
          "output_type": "execute_result",
          "execution_count": 8,
          "data": {
            "text/plain": "<matplotlib.image.AxesImage at 0x7f31368a0650>"
          },
          "metadata": {}
        },
        {
          "output_type": "display_data",
          "data": {
            "image/png": "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